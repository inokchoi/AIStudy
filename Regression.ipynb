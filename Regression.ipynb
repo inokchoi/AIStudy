{
  "nbformat": 4,
  "nbformat_minor": 0,
  "metadata": {
    "colab": {
      "name": "Regression.ipynb",
      "provenance": [],
      "collapsed_sections": [],
      "include_colab_link": true
    },
    "kernelspec": {
      "name": "python3",
      "display_name": "Python 3"
    }
  },
  "cells": [
    {
      "cell_type": "markdown",
      "metadata": {
        "id": "view-in-github",
        "colab_type": "text"
      },
      "source": [
        "<a href=\"https://colab.research.google.com/github/inokchoi/AIStudy/blob/main/Regression.ipynb\" target=\"_parent\"><img src=\"https://colab.research.google.com/assets/colab-badge.svg\" alt=\"Open In Colab\"/></a>"
      ]
    },
    {
      "cell_type": "markdown",
      "metadata": {
        "id": "DgE_e9ETYE9r"
      },
      "source": [
        "**Google Drive Mount**"
      ]
    },
    {
      "cell_type": "markdown",
      "metadata": {
        "id": "bnKqrtGjYQAg"
      },
      "source": [
        "- Google Server에서 이용되는 만큼 데이터 또한 Google Drive에 있어야 함\n",
        "- 아래 code를 통해 이 ipynb 파일과 Google Drive를 연결하며 읽기/쓰기 권한을 획득"
      ]
    },
    {
      "cell_type": "code",
      "metadata": {
        "id": "ozxd_HADg08r",
        "outputId": "57a148ff-8316-4c54-f7c1-c8e81f88df9d",
        "colab": {
          "base_uri": "https://localhost:8080/",
          "height": 122
        }
      },
      "source": [
        "from google.colab import auth\n",
        "from google.colab import drive\n",
        "\n",
        "auth.authenticate_user()\n",
        "drive.mount('/content/gdrive')"
      ],
      "execution_count": null,
      "outputs": [
        {
          "output_type": "stream",
          "text": [
            "Go to this URL in a browser: https://accounts.google.com/o/oauth2/auth?client_id=947318989803-6bn6qk8qdgf4n4g3pfee6491hc0brc4i.apps.googleusercontent.com&redirect_uri=urn%3Aietf%3Awg%3Aoauth%3A2.0%3Aoob&scope=email%20https%3A%2F%2Fwww.googleapis.com%2Fauth%2Fdocs.test%20https%3A%2F%2Fwww.googleapis.com%2Fauth%2Fdrive%20https%3A%2F%2Fwww.googleapis.com%2Fauth%2Fdrive.photos.readonly%20https%3A%2F%2Fwww.googleapis.com%2Fauth%2Fpeopleapi.readonly&response_type=code\n",
            "\n",
            "Enter your authorization code:\n",
            "··········\n",
            "Mounted at /content/gdrive\n"
          ],
          "name": "stdout"
        }
      ]
    },
    {
      "cell_type": "markdown",
      "metadata": {
        "id": "vF4bbPN8w9tE"
      },
      "source": [
        "**Library**\n",
        "\n",
        "\n"
      ]
    },
    {
      "cell_type": "code",
      "metadata": {
        "id": "0opz4N2VjnoA"
      },
      "source": [
        "from sklearn.linear_model import LinearRegression, Ridge, Lasso\n",
        "from sklearn.metrics import r2_score,mean_absolute_error, mean_squared_error\n",
        "import numpy as np"
      ],
      "execution_count": null,
      "outputs": []
    },
    {
      "cell_type": "markdown",
      "metadata": {
        "id": "h0SGUxluxyAr"
      },
      "source": [
        "**Data Loading & Setting**\n",
        "\n",
        "\n"
      ]
    },
    {
      "cell_type": "code",
      "metadata": {
        "id": "iKPVrW0mkvWR"
      },
      "source": [
        "dir = './gdrive/My Drive/Colab Notebooks/19-2 smart/'\n",
        "\n",
        "trainData = np.genfromtxt(dir+'oil_data_train.csv',delimiter=',', skip_header=1)\n",
        "X_train = trainData[:,:-1]\n",
        "y_train = trainData[:,-1]"
      ],
      "execution_count": null,
      "outputs": []
    },
    {
      "cell_type": "code",
      "metadata": {
        "id": "T7HGF_ckVhxi"
      },
      "source": [
        "testData = np.genfromtxt(dir+'oil_data_test.csv',delimiter=',', skip_header=1)\n",
        "X_test = testData[:,:-1]\n",
        "y_test = testData[:,-1]"
      ],
      "execution_count": null,
      "outputs": []
    },
    {
      "cell_type": "code",
      "metadata": {
        "id": "smuWZAVsDq4-",
        "outputId": "e66736cb-8b29-46cf-a1e0-8ea8dd8d7eaf",
        "colab": {
          "base_uri": "https://localhost:8080/",
          "height": 170
        }
      },
      "source": [
        "print(y_test)"
      ],
      "execution_count": null,
      "outputs": [
        {
          "output_type": "stream",
          "text": [
            "[33.12564808 33.18517007 33.14841714 33.16748817 33.27521884 33.2868205\n",
            " 33.25618092 33.23563861 33.28749909 33.25026008 33.25558584 33.25524472\n",
            " 33.26320336 33.26132084 34.34016855 34.34116348 34.33593684 34.32015319\n",
            " 34.32630024 34.31784701 34.31953548 34.32001033 34.31382669 34.29846157\n",
            " 34.30302689 34.31515278 34.29582383 34.29310562 34.2945379  34.31341624\n",
            " 34.29019825 34.31003079 34.30582277 33.92778203 33.24193609 33.24217997\n",
            " 33.24856652 33.23857257 33.20253796 33.27234422 33.25468205 33.26576662\n",
            " 33.27012756 33.2510887  33.23071716 33.27014609 33.25547924 33.23990303\n",
            " 33.22961067 33.21721396]\n"
          ],
          "name": "stdout"
        }
      ]
    },
    {
      "cell_type": "markdown",
      "metadata": {
        "id": "TXIyOGFAICyC"
      },
      "source": [
        "**Initial Model Declaration**\n",
        "\n",
        "\n"
      ]
    },
    {
      "cell_type": "code",
      "metadata": {
        "id": "rmp8NNxcZuAZ"
      },
      "source": [
        "ridge_alpha = 1\n",
        "lasso_alpha = 0.1\n",
        "\n",
        "linear = LinearRegression()\n",
        "ridge = Ridge(alpha = ridge_alpha)\n",
        "lasso = Lasso(alpha = lasso_alpha)"
      ],
      "execution_count": null,
      "outputs": []
    },
    {
      "cell_type": "markdown",
      "metadata": {
        "id": "uwoHwg8nIDf_"
      },
      "source": [
        "**Training Model**\n",
        "\n",
        "\n"
      ]
    },
    {
      "cell_type": "code",
      "metadata": {
        "id": "wiXOnH6DHpjL",
        "outputId": "1740ca11-b8cf-4e2c-fc15-9e3dbc06b96d",
        "colab": {
          "base_uri": "https://localhost:8080/",
          "height": 68
        }
      },
      "source": [
        "linear.fit(X_train,y_train)\n",
        "ridge.fit(X_train,y_train)\n",
        "lasso.fit(X_train,y_train)"
      ],
      "execution_count": null,
      "outputs": [
        {
          "output_type": "execute_result",
          "data": {
            "text/plain": [
              "Lasso(alpha=0.1, copy_X=True, fit_intercept=True, max_iter=1000,\n",
              "      normalize=False, positive=False, precompute=False, random_state=None,\n",
              "      selection='cyclic', tol=0.0001, warm_start=False)"
            ]
          },
          "metadata": {
            "tags": []
          },
          "execution_count": 11
        }
      ]
    },
    {
      "cell_type": "markdown",
      "metadata": {
        "id": "ATp0_DSRJdry"
      },
      "source": [
        "**Prediction**\n",
        "\n",
        "\n"
      ]
    },
    {
      "cell_type": "code",
      "metadata": {
        "id": "foa8mT6cH-Si",
        "outputId": "ce7fdffe-1817-4467-ce99-4046cdb13c71",
        "colab": {
          "base_uri": "https://localhost:8080/",
          "height": 68
        }
      },
      "source": [
        "linear_y_hat = linear.predict(X_test)\n",
        "ridge_y_hat = ridge.predict(X_test)\n",
        "lasso_y_hat = lasso.predict(X_test)\n",
        "\n",
        "linear_r2, ridge_r2, lasso_r2 = r2_score(y_test,linear_y_hat), r2_score(y_test,ridge_y_hat), r2_score(y_test,lasso_y_hat)\n",
        "linear_MSE, ridge_MSE, lasso_MSE = mean_squared_error(y_test,linear_y_hat), mean_squared_error(y_test,ridge_y_hat), mean_squared_error(y_test,lasso_y_hat)\n",
        "linear_MAE, ridge_MAE, lasso_MAE = mean_absolute_error(y_test,linear_y_hat), mean_absolute_error(y_test,ridge_y_hat), mean_absolute_error(y_test,lasso_y_hat)\n",
        "\n",
        "print('R2 score - Linear: %.2f, Ridge: %.2f, Lasso: %.2f' %(linear_r2, ridge_r2, lasso_r2))\n",
        "print('MSE - Linear: %.2f, Ridge: %.2f, Lasso: %.2f' %(linear_MSE, ridge_MSE, lasso_MSE))\n",
        "print('MAE - Linear: %.2f, Ridge: %.2f, Lasso: %.2f' %(linear_MAE, ridge_MAE, lasso_MAE))"
      ],
      "execution_count": null,
      "outputs": [
        {
          "output_type": "stream",
          "text": [
            "R2 score - Linear: 0.61, Ridge: 0.69, Lasso: 0.60\n",
            "MSE - Linear: 0.11, Ridge: 0.08, Lasso: 0.11\n",
            "MAE - Linear: 0.18, Ridge: 0.14, Lasso: 0.26\n"
          ],
          "name": "stdout"
        }
      ]
    },
    {
      "cell_type": "markdown",
      "metadata": {
        "id": "BX0pNMaAJd6R"
      },
      "source": [
        "**Plotting Predicted Y Values**\n",
        "\n",
        "\n"
      ]
    },
    {
      "cell_type": "code",
      "metadata": {
        "id": "6mb-nHk5JRq7",
        "outputId": "2d0d3505-e848-4f7f-a06e-2018dba32011",
        "colab": {
          "base_uri": "https://localhost:8080/",
          "height": 265
        }
      },
      "source": [
        "import matplotlib.pyplot as plt\n",
        "\n",
        "fig = plt.figure()\n",
        "ax = fig.add_subplot(111)\n",
        "ax.plot(range(len(y_test)), y_test, '-', label=\"Original Y\")\n",
        "ax.plot(range(len(y_test)), linear_y_hat, '-x', label=\"linear_y_hat\")\n",
        "ax.plot(range(len(y_test)), ridge_y_hat, '-x', label=\"ridge_y_hat\")\n",
        "ax.plot(range(len(y_test)), lasso_y_hat, '-x', label=\"lasso_y_hat\")\n",
        "plt.legend(loc='upper right')\n",
        "plt.show()"
      ],
      "execution_count": null,
      "outputs": [
        {
          "output_type": "display_data",
          "data": {
            "image/png": "[encoded data removed]",
            "text/plain": [
              "<Figure size 432x288 with 1 Axes>"
            ]
          },
          "metadata": {
            "tags": []
          }
        }
      ]
    },
    {
      "cell_type": "code",
      "metadata": {
        "id": "1Qfc6rYMdFEd",
        "outputId": "58afde08-4c92-4153-87c0-12ae63f699c2",
        "colab": {
          "base_uri": "https://localhost:8080/",
          "height": 71
        }
      },
      "source": [
        "ridge_result = []\n",
        "lasso_result = []\n",
        "alpha = [0.001,0.01,0.1,1,10]\n",
        "\n",
        "for a in alpha:\n",
        "  ridge = Ridge(alpha = a)\n",
        "  lasso = Lasso(alpha = a)\n",
        "\n",
        "  ridge.fit(X_train,y_train)\n",
        "  lasso.fit(X_train,y_train)\n",
        "\n",
        "  ridge_y_hat = ridge.predict(X_test)\n",
        "  lasso_y_hat = lasso.predict(X_test)\n",
        "\n",
        "  ridge_r2, lasso_r2 = r2_score(y_test,ridge_y_hat), r2_score(y_test,lasso_y_hat)\n",
        "  ridge_result.append(ridge_r2)\n",
        "  lasso_result.append(lasso_r2)"
      ],
      "execution_count": null,
      "outputs": [
        {
          "output_type": "stream",
          "text": [
            "/usr/local/lib/python3.6/dist-packages/sklearn/linear_model/coordinate_descent.py:475: ConvergenceWarning: Objective did not converge. You might want to increase the number of iterations. Duality gap: 0.15977488986227362, tolerance: 0.0027677457287885\n",
            "  positive)\n"
          ],
          "name": "stderr"
        }
      ]
    },
    {
      "cell_type": "code",
      "metadata": {
        "id": "BbK3aR3Ad7Bx",
        "outputId": "2efe1bab-d7b5-49e1-bcdb-1401919a43ae",
        "colab": {
          "base_uri": "https://localhost:8080/",
          "height": 279
        }
      },
      "source": [
        "fig = plt.figure()\n",
        "ax = fig.add_subplot(111)\n",
        "ax.plot(range(5), ridge_result, '-x', c='blue', label=\"R2 of Ridge\")\n",
        "ax.plot(range(5), lasso_result, '-x', c='red', label=\"R2 of Lasso\")\n",
        "plt.xticks(range(5), alpha)\n",
        "plt.xlabel('alpha')\n",
        "plt.ylabel('R2')\n",
        "plt.legend(loc='upper right')\n",
        "plt.show()"
      ],
      "execution_count": null,
      "outputs": [
        {
          "output_type": "display_data",
          "data": {
            "image/png": "[encoded data removed]",
            "text/plain": [
              "<Figure size 432x288 with 1 Axes>"
            ]
          },
          "metadata": {
            "tags": []
          }
        }
      ]
    }
  ]
}