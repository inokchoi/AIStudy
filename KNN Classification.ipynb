{
  "nbformat": 4,
  "nbformat_minor": 0,
  "metadata": {
    "colab": {
      "name": "Classification(kNN).ipynb",
      "provenance": [],
      "collapsed_sections": [],
      "include_colab_link": true
    },
    "kernelspec": {
      "name": "python3",
      "display_name": "Python 3"
    }
  },
  "cells": [
    {
      "cell_type": "markdown",
      "metadata": {
        "id": "view-in-github",
        "colab_type": "text"
      },
      "source": [
        "<a href=\"https://colab.research.google.com/github/inokchoi/AIStudy/blob/main/KNN%20Classification.ipynb\" target=\"_parent\"><img src=\"https://colab.research.google.com/assets/colab-badge.svg\" alt=\"Open In Colab\"/></a>"
      ]
    },
    {
      "cell_type": "markdown",
      "metadata": {
        "id": "DgE_e9ETYE9r"
      },
      "source": [
        "**Google Drive Mount**"
      ]
    },
    {
      "cell_type": "markdown",
      "metadata": {
        "id": "bnKqrtGjYQAg"
      },
      "source": [
        "- Google Server에서 이용되는 만큼 데이터 또한 Google Drive에 있어야 함\n",
        "- 아래 code를 통해 이 ipynb 파일과 Google Drive를 연결하며 읽기/쓰기 권한을 획득"
      ]
    },
    {
      "cell_type": "code",
      "metadata": {
        "id": "ozxd_HADg08r",
        "outputId": "7587457a-a426-436b-f8ee-61fa495668bf",
        "colab": {
          "base_uri": "https://localhost:8080/",
          "height": 122
        }
      },
      "source": [
        "from google.colab import auth\n",
        "from google.colab import drive\n",
        "\n",
        "auth.authenticate_user()\n",
        "drive.mount('/content/gdrive')"
      ],
      "execution_count": null,
      "outputs": [
        {
          "output_type": "stream",
          "text": [
            "Go to this URL in a browser: https://accounts.google.com/o/oauth2/auth?client_id=947318989803-6bn6qk8qdgf4n4g3pfee6491hc0brc4i.apps.googleusercontent.com&redirect_uri=urn%3Aietf%3Awg%3Aoauth%3A2.0%3Aoob&scope=email%20https%3A%2F%2Fwww.googleapis.com%2Fauth%2Fdocs.test%20https%3A%2F%2Fwww.googleapis.com%2Fauth%2Fdrive%20https%3A%2F%2Fwww.googleapis.com%2Fauth%2Fdrive.photos.readonly%20https%3A%2F%2Fwww.googleapis.com%2Fauth%2Fpeopleapi.readonly&response_type=code\n",
            "\n",
            "Enter your authorization code:\n",
            "··········\n",
            "Mounted at /content/gdrive\n"
          ],
          "name": "stdout"
        }
      ]
    },
    {
      "cell_type": "markdown",
      "metadata": {
        "id": "vF4bbPN8w9tE"
      },
      "source": [
        "**Library**\n",
        "\n",
        "\n"
      ]
    },
    {
      "cell_type": "code",
      "metadata": {
        "id": "0opz4N2VjnoA"
      },
      "source": [
        "from sklearn.neighbors import KNeighborsClassifier\n",
        "from sklearn.metrics import accuracy_score\n",
        "import numpy as np"
      ],
      "execution_count": null,
      "outputs": []
    },
    {
      "cell_type": "markdown",
      "metadata": {
        "id": "h0SGUxluxyAr"
      },
      "source": [
        "**Data Loading & Setting**\n",
        "\n",
        "\n"
      ]
    },
    {
      "cell_type": "code",
      "metadata": {
        "id": "iKPVrW0mkvWR"
      },
      "source": [
        "dir = './gdrive/My Drive/Colab Notebooks/19-2 smart/'\n",
        "\n",
        "trainData = np.genfromtxt(dir+'process_data_train.csv',delimiter=',', skip_header=1)\n",
        "X_train = trainData[:,:-1]\n",
        "y_train = trainData[:,-1]"
      ],
      "execution_count": null,
      "outputs": []
    },
    {
      "cell_type": "code",
      "metadata": {
        "id": "T7HGF_ckVhxi"
      },
      "source": [
        "testData = np.genfromtxt(dir+'process_data_test.csv',delimiter=',', skip_header=1)\n",
        "X_test = testData[:,:-1]\n",
        "y_test = testData[:,-1]"
      ],
      "execution_count": null,
      "outputs": []
    },
    {
      "cell_type": "markdown",
      "metadata": {
        "id": "TXIyOGFAICyC"
      },
      "source": [
        "**Initial Model Declaration**\n",
        "\n",
        "\n"
      ]
    },
    {
      "cell_type": "code",
      "metadata": {
        "id": "rmp8NNxcZuAZ"
      },
      "source": [
        "neighbors_value = 3\n",
        "kNN_classifier = KNeighborsClassifier(n_neighbors = neighbors_value)"
      ],
      "execution_count": null,
      "outputs": []
    },
    {
      "cell_type": "markdown",
      "metadata": {
        "id": "uwoHwg8nIDf_"
      },
      "source": [
        "**Training Model**\n",
        "\n",
        "\n"
      ]
    },
    {
      "cell_type": "code",
      "metadata": {
        "id": "wiXOnH6DHpjL",
        "outputId": "58d608eb-af28-4854-b53b-732c7485189e",
        "colab": {
          "base_uri": "https://localhost:8080/",
          "height": 68
        }
      },
      "source": [
        "kNN_classifier.fit(X_train,y_train)"
      ],
      "execution_count": null,
      "outputs": [
        {
          "output_type": "execute_result",
          "data": {
            "text/plain": [
              "KNeighborsClassifier(algorithm='auto', leaf_size=30, metric='minkowski',\n",
              "                     metric_params=None, n_jobs=None, n_neighbors=3, p=2,\n",
              "                     weights='uniform')"
            ]
          },
          "metadata": {
            "tags": []
          },
          "execution_count": 7
        }
      ]
    },
    {
      "cell_type": "markdown",
      "metadata": {
        "id": "ATp0_DSRJdry"
      },
      "source": [
        "**Prediction**\n",
        "\n",
        "\n"
      ]
    },
    {
      "cell_type": "code",
      "metadata": {
        "id": "foa8mT6cH-Si",
        "outputId": "99c4e7cc-8aff-4d2c-def5-55bc8fc69727",
        "colab": {
          "base_uri": "https://localhost:8080/",
          "height": 34
        }
      },
      "source": [
        "y_hat = kNN_classifier.predict(X_test)\n",
        "accuracy = accuracy_score(y_test,y_hat)\n",
        "print(accuracy)"
      ],
      "execution_count": null,
      "outputs": [
        {
          "output_type": "stream",
          "text": [
            "0.7272727272727273\n"
          ],
          "name": "stdout"
        }
      ]
    },
    {
      "cell_type": "markdown",
      "metadata": {
        "id": "BX0pNMaAJd6R"
      },
      "source": [
        "**Plotting Accuracies According to the Number of neighbers**\n",
        "\n",
        "\n"
      ]
    },
    {
      "cell_type": "code",
      "metadata": {
        "id": "6mb-nHk5JRq7",
        "outputId": "601e0603-5a3a-43a5-f0c1-b02ecb1865e9",
        "colab": {
          "base_uri": "https://localhost:8080/",
          "height": 279
        }
      },
      "source": [
        "import matplotlib.pyplot as plt\n",
        "test_result = []\n",
        "k_neighbors = [1,3,5,7,9,11,13,15]\n",
        "\n",
        "for k_neighbor in k_neighbors:\n",
        "    kNN_classifier = KNeighborsClassifier(n_neighbors = k_neighbor)\n",
        "    kNN_classifier.fit(X_train,y_train)\n",
        "\n",
        "    y_hat = kNN_classifier.predict(X_test)\n",
        "    accuracy = accuracy_score(y_test,y_hat)\n",
        "    test_result.append(accuracy)\n",
        "\n",
        "fig = plt.figure()\n",
        "ax = fig.add_subplot(111)\n",
        "ax.plot(k_neighbors, test_result, '-x', c='blue', label=\"Accuracy of test\")\n",
        "plt.xlabel('the number of neighbors')\n",
        "plt.ylabel('accuracy')\n",
        "plt.legend(loc='lower right')\n",
        "plt.show()"
      ],
      "execution_count": null,
      "outputs": [
        {
          "output_type": "display_data",
          "data": {
            "image/png": "[encoded data removed]",
            "text/plain": [
              "<Figure size 432x288 with 1 Axes>"
            ]
          },
          "metadata": {
            "tags": []
          }
        }
      ]
    }
  ]
}